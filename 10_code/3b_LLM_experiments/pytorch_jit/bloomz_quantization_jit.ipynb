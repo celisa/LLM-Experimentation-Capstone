{
 "cells": [
  {
   "cell_type": "code",
   "execution_count": 7,
   "metadata": {},
   "outputs": [
    {
     "name": "stderr",
     "output_type": "stream",
     "text": [
      "Downloading builder script: 100%|██████████| 3.36k/3.36k [00:00<00:00, 23.0MB/s]\n",
      "Downloading readme: 100%|██████████| 1.88k/1.88k [00:00<00:00, 15.5MB/s]\n",
      "Downloading data: 100%|██████████| 308M/308M [00:03<00:00, 88.6MB/s] \n",
      "Generating train split: 210000 examples [00:06, 30223.30 examples/s]\n",
      "Generating test split: 45000 examples [00:01, 27787.03 examples/s]\n",
      "Generating validation split: 45000 examples [00:01, 30199.97 examples/s]\n"
     ]
    }
   ],
   "source": [
    "from datasets import load_dataset \n",
    "from transformers import AutoTokenizer, AutoModelForSequenceClassification\n",
    "import torch\n",
    "import os\n",
    "import time\n",
    "import pandas as pd\n",
    "from datasets import load_dataset \n",
    "\n",
    "dataset = load_dataset(\"NicolaiSivesind/human-vs-machine\", \"wiki_labeled\")\n",
    "dataset = dataset['test'].select(range(50))"
   ]
  },
  {
   "cell_type": "code",
   "execution_count": 6,
   "metadata": {},
   "outputs": [
    {
     "name": "stderr",
     "output_type": "stream",
     "text": [
      "tokenizer_config.json: 100%|██████████| 296/296 [00:00<00:00, 1.55MB/s]\n",
      "tokenizer.json: 100%|██████████| 14.5M/14.5M [00:00<00:00, 19.0MB/s]\n",
      "special_tokens_map.json: 100%|██████████| 96.0/96.0 [00:00<00:00, 667kB/s]\n",
      "config.json: 100%|██████████| 1.02k/1.02k [00:00<00:00, 7.14MB/s]\n",
      "pytorch_model.bin.index.json: 100%|██████████| 31.9k/31.9k [00:00<00:00, 112MB/s]\n",
      "pytorch_model-00001-of-00002.bin: 100%|██████████| 9.91G/9.91G [04:26<00:00, 37.1MB/s]\n",
      "pytorch_model-00002-of-00002.bin: 100%|██████████| 2.10G/2.10G [00:54<00:00, 38.3MB/s]\n",
      "Downloading shards: 100%|██████████| 2/2 [05:22<00:00, 161.12s/it]\n",
      "Loading checkpoint shards: 100%|██████████| 2/2 [00:05<00:00,  2.59s/it]"
     ]
    },
    {
     "name": "stdout",
     "output_type": "stream",
     "text": [
      "\n"
     ]
    },
    {
     "name": "stderr",
     "output_type": "stream",
     "text": [
      "\n"
     ]
    }
   ],
   "source": [
    "tokenizer = AutoTokenizer.from_pretrained(\"andreas122001/bloomz-3b-wiki-detector\", torchscript=True)\n",
    "model = AutoModelForSequenceClassification.from_pretrained(\"andreas122001/bloomz-3b-wiki-detector\", torchscript=True)\n",
    "model.to(\"cpu\")\n",
    "print()"
   ]
  },
  {
   "cell_type": "code",
   "execution_count": 3,
   "metadata": {},
   "outputs": [],
   "source": [
    "tokenized_texts = tokenizer(dataset['text'], padding=True, truncation=True, return_tensors=\"pt\", max_length=512).to(\"cpu\")\n",
    "input_ids = tokenized_texts['input_ids'].to(\"cpu\")\n",
    "attention_mask = tokenized_texts['attention_mask'].to(\"cpu\")"
   ]
  },
  {
   "cell_type": "code",
   "execution_count": 26,
   "metadata": {},
   "outputs": [
    {
     "name": "stdout",
     "output_type": "stream",
     "text": [
      "Time taken for 50 samples:  342.37757682800293\n"
     ]
    }
   ],
   "source": [
    "model.eval()\n",
    "with torch.no_grad():\n",
    "    start = time.time()\n",
    "    outputs = model(input_ids, attention_mask=attention_mask)\n",
    "    end = time.time()\n",
    "    print(\"Time taken for 50 samples: \", end-start)"
   ]
  },
  {
   "cell_type": "code",
   "execution_count": 4,
   "metadata": {},
   "outputs": [],
   "source": [
    "def inferenced_function(input_ids, attention_mask):\n",
    "    model.eval()\n",
    "    with torch.no_grad():\n",
    "        outputs = model(input_ids, attention_mask=attention_mask)\n",
    "    return outputs\n",
    "\n",
    "traced_model = torch.jit.trace(inferenced_function, (input_ids, attention_mask))"
   ]
  },
  {
   "cell_type": "code",
   "execution_count": null,
   "metadata": {},
   "outputs": [],
   "source": [
    "torch.jit.save(traced_model, \"bloomz_base_jit.pt\")"
   ]
  },
  {
   "cell_type": "code",
   "execution_count": null,
   "metadata": {},
   "outputs": [],
   "source": []
  },
  {
   "cell_type": "code",
   "execution_count": null,
   "metadata": {},
   "outputs": [],
   "source": [
    "result = traced_model(encoded_dataset['validation']['input_ids'])"
   ]
  },
  {
   "cell_type": "code",
   "execution_count": 3,
   "metadata": {},
   "outputs": [],
   "source": [
    "quantized_model = torch.quantization.quantize_dynamic(model, {torch.nn.Linear}, dtype=torch.qint8)"
   ]
  },
  {
   "cell_type": "code",
   "execution_count": 4,
   "metadata": {},
   "outputs": [
    {
     "name": "stdout",
     "output_type": "stream",
     "text": [
      "Size (MB): 12010.384816\n",
      "Size (MB): 4932.560034\n"
     ]
    }
   ],
   "source": [
    "def print_size_of_model(model):\n",
    "    torch.save(model.state_dict(), \"temp.p\")\n",
    "    print('Size (MB):', os.path.getsize(\"temp.p\")/1e6)\n",
    "    os.remove('temp.p')\n",
    "\n",
    "print_size_of_model(model)\n",
    "print_size_of_model(quantized_model)"
   ]
  },
  {
   "cell_type": "code",
   "execution_count": 12,
   "metadata": {},
   "outputs": [
    {
     "data": {
      "text/html": [
       "<div>\n",
       "<style scoped>\n",
       "    .dataframe tbody tr th:only-of-type {\n",
       "        vertical-align: middle;\n",
       "    }\n",
       "\n",
       "    .dataframe tbody tr th {\n",
       "        vertical-align: top;\n",
       "    }\n",
       "\n",
       "    .dataframe thead th {\n",
       "        text-align: right;\n",
       "    }\n",
       "</style>\n",
       "<table border=\"1\" class=\"dataframe\">\n",
       "  <thead>\n",
       "    <tr style=\"text-align: right;\">\n",
       "      <th></th>\n",
       "      <th>times</th>\n",
       "    </tr>\n",
       "  </thead>\n",
       "  <tbody>\n",
       "    <tr>\n",
       "      <th>count</th>\n",
       "      <td>100.000000</td>\n",
       "    </tr>\n",
       "    <tr>\n",
       "      <th>mean</th>\n",
       "      <td>3.609569</td>\n",
       "    </tr>\n",
       "    <tr>\n",
       "      <th>std</th>\n",
       "      <td>1.427363</td>\n",
       "    </tr>\n",
       "    <tr>\n",
       "      <th>min</th>\n",
       "      <td>1.164556</td>\n",
       "    </tr>\n",
       "    <tr>\n",
       "      <th>25%</th>\n",
       "      <td>2.556017</td>\n",
       "    </tr>\n",
       "    <tr>\n",
       "      <th>50%</th>\n",
       "      <td>3.599232</td>\n",
       "    </tr>\n",
       "    <tr>\n",
       "      <th>75%</th>\n",
       "      <td>4.501231</td>\n",
       "    </tr>\n",
       "    <tr>\n",
       "      <th>max</th>\n",
       "      <td>9.016316</td>\n",
       "    </tr>\n",
       "  </tbody>\n",
       "</table>\n",
       "</div>"
      ],
      "text/plain": [
       "            times\n",
       "count  100.000000\n",
       "mean     3.609569\n",
       "std      1.427363\n",
       "min      1.164556\n",
       "25%      2.556017\n",
       "50%      3.599232\n",
       "75%      4.501231\n",
       "max      9.016316"
      ]
     },
     "metadata": {},
     "output_type": "display_data"
    }
   ],
   "source": [
    "tokenized_texts = [tokenizer(x['text'], padding=True, truncation=True, return_tensors=\"pt\", max_length=512).to(\"cpu\") for x in dataset]\n",
    "time_taken = []\n",
    "model = model.to(\"cpu\")\n",
    "\n",
    "for text in tokenized_texts:\n",
    "    start_time = time.time()\n",
    "    with torch.no_grad():\n",
    "        logits = model(**text)\n",
    "    end_time = time.time()\n",
    "    time_taken.append(end_time - start_time)\n",
    "output = pd.DataFrame({\"times\":time_taken})\n",
    "output.to_csv(\"quantized_inference_time.csv\", index=False)\n",
    "display(output.describe())"
   ]
  },
  {
   "cell_type": "code",
   "execution_count": null,
   "metadata": {},
   "outputs": [],
   "source": []
  }
 ],
 "metadata": {
  "kernelspec": {
   "display_name": "Python 3 (ipykernel)",
   "language": "python",
   "name": "python3"
  },
  "language_info": {
   "codemirror_mode": {
    "name": "ipython",
    "version": 3
   },
   "file_extension": ".py",
   "mimetype": "text/x-python",
   "name": "python",
   "nbconvert_exporter": "python",
   "pygments_lexer": "ipython3",
   "version": "3.10.8"
  }
 },
 "nbformat": 4,
 "nbformat_minor": 2
}
