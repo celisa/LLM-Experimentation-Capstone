{
 "cells": [
  {
   "cell_type": "code",
   "execution_count": 1,
   "metadata": {},
   "outputs": [
    {
     "name": "stderr",
     "output_type": "stream",
     "text": [
      "/home/codespace/.local/lib/python3.10/site-packages/tqdm/auto.py:21: TqdmWarning: IProgress not found. Please update jupyter and ipywidgets. See https://ipywidgets.readthedocs.io/en/stable/user_install.html\n",
      "  from .autonotebook import tqdm as notebook_tqdm\n"
     ]
    }
   ],
   "source": [
    "from datasets import load_dataset \n",
    "from transformers import AutoTokenizer, AutoModelForSequenceClassification, GPTQConfig\n",
    "import torch\n",
    "import time\n",
    "import pandas as pd\n",
    "dataset = load_dataset(\"jigsaw_toxicity_pred\", data_dir=\"/workspaces/LLM-Experimentation-Capstone/00_source_data/jigsaw_toxicity\")\n",
    "dataset = dataset['train'][0:10_000]\n",
    "texts = dataset['comment_text']"
   ]
  },
  {
   "cell_type": "code",
   "execution_count": 2,
   "metadata": {},
   "outputs": [
    {
     "name": "stderr",
     "output_type": "stream",
     "text": [
      "Downloading shards: 100%|██████████| 2/2 [04:00<00:00, 120.18s/it]\n",
      "Loading checkpoint shards: 100%|██████████| 2/2 [00:06<00:00,  3.31s/it]\n",
      "Repo card metadata block was not found. Setting CardData to empty.\n",
      "Quantizing transformer.h blocks :   7%|▋         | 2/30 [00:53<12:18, 26.37s/it]"
     ]
    }
   ],
   "source": [
    "tokenizer = AutoTokenizer.from_pretrained(\"andreas122001/bloomz-3b-wiki-detector\")\n",
    "gptq_config = GPTQConfig(bits=4, dataset = \"c4\", tokenizer=tokenizer)\n",
    "model = AutoModelForSequenceClassification.from_pretrained(\"andreas122001/bloomz-3b-wiki-detector\", quantization_config=gptq_config)\n"
   ]
  },
  {
   "cell_type": "code",
   "execution_count": null,
   "metadata": {},
   "outputs": [],
   "source": [
    "tokenized_texts = [tokenizer(x, padding=True, truncation=True, return_tensors=\"pt\", max_length=512) for x in texts]\n",
    "time_taken = []\n",
    "for text in tokenized_texts:\n",
    "    start_time = time.time()\n",
    "    with torch.no_grad():\n",
    "        logits = model(**text).logits\n",
    "    end_time = time.time()\n",
    "    time_taken.append(end_time - start_time)\n",
    "output = pd.DataFrame({\"bert_base\":time_taken})\n",
    "output.to_csv(\"bert_base_inference.csv\", index=False)"
   ]
  }
 ],
 "metadata": {
  "kernelspec": {
   "display_name": "Python 3",
   "language": "python",
   "name": "python3"
  },
  "language_info": {
   "codemirror_mode": {
    "name": "ipython",
    "version": 3
   },
   "file_extension": ".py",
   "mimetype": "text/x-python",
   "name": "python",
   "nbconvert_exporter": "python",
   "pygments_lexer": "ipython3",
   "version": "3.10.8"
  }
 },
 "nbformat": 4,
 "nbformat_minor": 2
}
