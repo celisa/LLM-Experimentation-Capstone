{
  "cells": [
    {
      "cell_type": "markdown",
      "metadata": {
        "id": "4l1Zz88Wxlft"
      },
      "source": [
        "# Training ResNet on CIFAR-10\n",
        "In this project, you will use the SimpleNN model to perform image classification on CIFAR-10. CIFAR-10 orginally contains 60K images from 10 categories. We split it into 45K/5K/10K images to serve as train/valiation/test set. We only release the ground-truth labels of training/validation dataset to you."
      ]
    },
    {
      "cell_type": "markdown",
      "metadata": {
        "id": "KWHl0eHzxlfx"
      },
      "source": [
        "## Step 0: Set up the ResNet model\n",
        "As you have practiced to implement simple neural networks in Homework 1, we just prepare the implementation for you."
      ]
    },
    {
      "cell_type": "code",
      "source": [
        "from google.colab import drive\n",
        "drive.mount('/content/drive')"
      ],
      "metadata": {
        "colab": {
          "base_uri": "https://localhost:8080/"
        },
        "id": "6GQW3nbynzW_",
        "outputId": "d7dd5128-fe87-47e7-a662-09a29fe5debf"
      },
      "execution_count": 2,
      "outputs": [
        {
          "output_type": "stream",
          "name": "stdout",
          "text": [
            "Mounted at /content/drive\n"
          ]
        }
      ]
    },
    {
      "cell_type": "code",
      "execution_count": 3,
      "metadata": {
        "id": "SzgRGqaHxlfy"
      },
      "outputs": [],
      "source": [
        "# import necessary dependencies\n",
        "import argparse\n",
        "import os, sys\n",
        "import time\n",
        "import datetime\n",
        "from tqdm import tqdm_notebook as tqdm\n",
        "\n",
        "import torch\n",
        "import torch.nn as nn\n",
        "import torch.nn.functional as F\n",
        "\n",
        "import matplotlib.pyplot as plt\n",
        "\n",
        "import pandas as pd\n",
        "import numpy as np"
      ]
    },
    {
      "cell_type": "code",
      "execution_count": 13,
      "metadata": {
        "id": "GYgs3MAMy0vb"
      },
      "outputs": [],
      "source": [
        "# define the Residual Block for the ResNet-20 model;\n",
        "\n",
        "class ResidualBlock(nn.Module):\n",
        "    def __init__(self, in_channels, out_channels, device = 'cuda'):\n",
        "        super(ResidualBlock, self).__init__()\n",
        "        self.conv1 = nn.Conv2d(in_channels, out_channels, stride = 1, kernel_size = 3, padding = 1)\n",
        "        self.bn1 = nn.BatchNorm2d(out_channels)\n",
        "        self.conv2 = nn.Conv2d(in_channels, out_channels, stride = 2, kernel_size = 3, padding = 1)\n",
        "        self.conv3 = nn.Conv2d(out_channels, out_channels, stride = 1, kernel_size = 3, padding = 1)\n",
        "        self.conv_bottleneck = None\n",
        "        self.in_channels = in_channels\n",
        "        self.out_channels = out_channels\n",
        "\n",
        "    def forward(self, x):\n",
        "        residual = x\n",
        "        if self.in_channels == self.out_channels:\n",
        "          out = F.relu(self.bn1(self.conv1(x)))\n",
        "          out = self.bn1(self.conv1(out))\n",
        "        else:\n",
        "          out = F.relu(self.bn1(self.conv2(x)))\n",
        "          out = self.bn1(self.conv3(out))\n",
        "\n",
        "        if x.size(1) != out.size(1): #add bottleneck if output filters in Y changes\n",
        "            self.conv_bottleneck = nn.Conv2d(x.size(1), out.size(1), kernel_size=1, stride = 2)\n",
        "            x = x.to(\"cpu\")\n",
        "            residual = nn.BatchNorm2d(out.size(1))(self.conv_bottleneck(x))\n",
        "            x = x.to(\"cuda\")\n",
        "            residual = residual.to(\"cuda\")\n",
        "\n",
        "        out += residual\n",
        "        out = F.relu(out)\n",
        "        return out\n",
        "\n",
        "# define ResNet-20 model\n",
        "\n",
        "class ResNet(nn.Module):\n",
        "    def __init__(self):\n",
        "        super(ResNet, self).__init__()\n",
        "        self.conv1 = nn.Conv2d(3, 16, 3, padding = 1)\n",
        "        self.bn = nn.BatchNorm2d(16)\n",
        "        self.conv_block1 = ResidualBlock(16, 16, 1) #32 - is this right??\n",
        "        self.conv_block16 = ResidualBlock(16, 32, 2)\n",
        "        self.conv_block2 = ResidualBlock(32, 32, 2) #16\n",
        "        self.conv_block26 = ResidualBlock(32, 64, 2)\n",
        "        self.conv_block3 = ResidualBlock(64, 64, 2) #8\n",
        "        self.avg_pool = nn.AdaptiveAvgPool2d(1)\n",
        "        self.fc = nn.Linear(64, 10)\n",
        "        self.softmax = nn.Softmax(dim=1)\n",
        "\n",
        "    def forward(self, x):\n",
        "        out = F.relu(self.bn(self.conv1(x))) #1\n",
        "        out = self.conv_block1(out) # 2, 3\n",
        "        out = self.conv_block1(out) # 4, 5\n",
        "        out = self.conv_block1(out) # 6, 7\n",
        "        out = self.conv_block16(out) # 8, 9\n",
        "        out = self.conv_block2(out) # 10, 11\n",
        "        out = self.conv_block2(out) # 12, 13\n",
        "        out = self.conv_block26(out) # 14, 15\n",
        "        out = self.conv_block3(out) # 16, 17\n",
        "        out = self.conv_block3(out) # 18, 19\n",
        "        out = self.avg_pool(out)\n",
        "        out = out.view(out.size(0), -1)\n",
        "        out = self.softmax(self.fc(out)) #20\n",
        "        return out"
      ]
    },
    {
      "cell_type": "markdown",
      "metadata": {
        "id": "u2bdh78Lxlf0"
      },
      "source": [
        "### Question (a)\n",
        "Here is a sanity check to verify the implementation of SimpleNN.\n",
        "You need to:\n",
        "1. Write down your code.\n",
        "2. **In the PDF report**, give a brief description on how the code helps you know that SimpleNN is implemented correctly."
      ]
    },
    {
      "cell_type": "code",
      "execution_count": 14,
      "metadata": {
        "colab": {
          "base_uri": "https://localhost:8080/"
        },
        "id": "Uik1EOaUy0vf",
        "outputId": "f295b4e9-6a04-4fa8-88b3-a513f2caf0d6"
      },
      "outputs": [
        {
          "output_type": "stream",
          "name": "stdout",
          "text": [
            "Using device:  cuda\n",
            "Forward pass successful\n"
          ]
        }
      ],
      "source": [
        "#############################################\n",
        "# your code here\n",
        "# sanity check for the correctness of SimpleNN\n",
        "\n",
        "device = 'cuda' if torch.cuda.is_available() else 'cpu'\n",
        "print(\"Using device: \", device)\n",
        "\n",
        "# Model Definition\n",
        "net = ResNet()\n",
        "net = net.to(device)\n",
        "\n",
        "# Test forward pass\n",
        "data = torch.randn(2,3,32,32)\n",
        "data = data.to(device)\n",
        "# Forward pass \"data\" through \"net\" to get output \"out\"\n",
        "out = net(data)\n",
        "\n",
        "# Check output shape\n",
        "assert(out.detach().cpu().numpy().shape == (2,10))\n",
        "print(\"Forward pass successful\")\n",
        "\n",
        "#############################################"
      ]
    },
    {
      "cell_type": "markdown",
      "metadata": {
        "id": "z-Ibb3Ugxlf1"
      },
      "source": [
        "## Step 1: Set up preprocessing functions\n",
        "Preprocessing is very important as discussed in the lecture.\n",
        "You will need to write preprocessing functions with the help of *torchvision.transforms* in this step.\n",
        "You can find helpful tutorial/API at [here](https://pytorch.org/vision/stable/transforms.html)."
      ]
    },
    {
      "cell_type": "markdown",
      "metadata": {
        "id": "Q1gr8PoIxlf2"
      },
      "source": [
        "### Question (b)\n",
        "For the question, you need to:\n",
        "1. Complete the preprocessing code below.\n",
        "2. **In the PDF report**, briefly describe what preprocessing operations you used and what are the purposes of them.\n",
        "\n",
        "Hint:\n",
        "1. Only two operations are necessary to complete the basic preprocessing here.\n",
        "2. The raw input read from the dataset will be PIL images.\n",
        "3. Data augmentation operations are not mendatory, but feel free to incorporate them if you want.\n",
        "4. Reference value for mean/std of CIFAR-10 images (assuming the pixel values are within [0,1]): mean (RGB-format): (0.4914, 0.4822, 0.4465), std (RGB-format): (0.2023, 0.1994, 0.2010)"
      ]
    },
    {
      "cell_type": "code",
      "execution_count": 15,
      "metadata": {
        "id": "28HpHF-Qxlf3"
      },
      "outputs": [],
      "source": [
        "# useful libraries\n",
        "import torchvision\n",
        "import torchvision.transforms as transforms\n",
        "\n",
        "#############################################\n",
        "# your code here\n",
        "# specify preprocessing function\n",
        "transform_train = transforms.Compose([\n",
        "    transforms.RandomCrop(size = 32, padding = 4),\n",
        "    transforms.RandomHorizontalFlip(),\n",
        "    transforms.ToTensor(),\n",
        "    #transforms.RandomErasing(p = 0.4), # play with the value of p\n",
        "    transforms.Normalize((0.4914, 0.4822, 0.4465), (0.2023, 0.1994, 0.2010)),\n",
        "])\n",
        "\n",
        "transform_val = transforms.Compose([\n",
        "    transforms.ToTensor(),\n",
        "    transforms.Normalize((0.4914, 0.4822, 0.4465), (0.2023, 0.1994, 0.2010)),\n",
        "])\n",
        "#############################################"
      ]
    },
    {
      "cell_type": "markdown",
      "metadata": {
        "id": "yp7C5FGZxlf4"
      },
      "source": [
        "## Step 2: Set up dataset and dataloader\n",
        "\n",
        "### Question (c)\n",
        "Set up the train/val datasets and dataloders that are to be used during the training. Check out the [official API](https://pytorch.org/docs/stable/data.html) for more information about **torch.utils.data.DataLoader**.\n",
        "\n",
        "Here, you need to:\n",
        "1. Complete the code below."
      ]
    },
    {
      "cell_type": "code",
      "execution_count": 16,
      "metadata": {
        "colab": {
          "base_uri": "https://localhost:8080/"
        },
        "id": "qeNqIW5wxlf4",
        "outputId": "bc3892b3-471c-4603-9578-7f6a9f27da88"
      },
      "outputs": [
        {
          "output_type": "stream",
          "name": "stdout",
          "text": [
            "Downloading https://www.dropbox.com/s/s8orza214q45b23/cifar10_trainval_F22.zip?dl=1 to ./data/cifar10_trainval_F22.zip\n"
          ]
        },
        {
          "output_type": "stream",
          "name": "stderr",
          "text": [
            "141746176it [00:14, 10057309.27it/s]                               \n"
          ]
        },
        {
          "output_type": "stream",
          "name": "stdout",
          "text": [
            "Extracting ./data/cifar10_trainval_F22.zip to ./data\n",
            "Files already downloaded and verified\n",
            "Using downloaded and verified file: ./data/cifar10_trainval_F22.zip\n",
            "Extracting ./data/cifar10_trainval_F22.zip to ./data\n",
            "Files already downloaded and verified\n"
          ]
        },
        {
          "output_type": "stream",
          "name": "stderr",
          "text": [
            "/usr/local/lib/python3.10/dist-packages/torch/utils/data/dataloader.py:560: UserWarning: This DataLoader will create 4 worker processes in total. Our suggested max number of worker in current system is 2, which is smaller than what this DataLoader is going to create. Please be aware that excessive worker creation might get DataLoader running slow or even freeze, lower the worker number to avoid potential slowness/freeze if necessary.\n",
            "  warnings.warn(_create_warning_msg(\n"
          ]
        }
      ],
      "source": [
        "import sys\n",
        "sys.path.insert(0, \"/content/drive/MyDrive/Colab_Notebooks/ECE661/HW2\")\n",
        "\n",
        "# do NOT change these\n",
        "from tools.dataset import CIFAR10\n",
        "from torch.utils.data import DataLoader\n",
        "\n",
        "# a few arguments, do NOT change these\n",
        "DATA_ROOT = \"./data\"\n",
        "TRAIN_BATCH_SIZE = 128\n",
        "VAL_BATCH_SIZE = 100\n",
        "\n",
        "#############################################\n",
        "# your code here\n",
        "# construct dataset\n",
        "train_set = CIFAR10(\n",
        "    root=DATA_ROOT,\n",
        "    mode='train',\n",
        "    download=True,\n",
        "    transform=transform_train #your code\n",
        ")\n",
        "val_set = CIFAR10(\n",
        "    root=DATA_ROOT,\n",
        "    mode='val',\n",
        "    download=True,\n",
        "    transform=transform_val #your code\n",
        ")\n",
        "\n",
        "# construct dataloader\n",
        "train_loader = DataLoader(\n",
        "    train_set,\n",
        "    batch_size= TRAIN_BATCH_SIZE, #your code\n",
        "    shuffle=True,     # your code\n",
        "    num_workers=4\n",
        ")\n",
        "val_loader = DataLoader(\n",
        "    val_set,\n",
        "    batch_size=VAL_BATCH_SIZE,  # your code\n",
        "    shuffle=True,     # your code\n",
        "    num_workers=4\n",
        ")\n",
        "#############################################"
      ]
    },
    {
      "cell_type": "markdown",
      "metadata": {
        "id": "X4hEf00Oxlf5"
      },
      "source": [
        "## Step 3: Instantiate your SimpleNN model and deploy it to GPU devices.\n",
        "### Question (d)\n",
        "You may want to deploy your model to GPU device for efficient training. Please assign your model to GPU if possible. If you are training on a machine without GPUs, please deploy your model to CPUs.\n",
        "\n",
        "Here, you need to:\n",
        "1. Complete the code below.\n",
        "2. **In the PDF report**, briefly describe how you verify that your model is indeed deployed on GPU. (Hint: check $\\texttt{nvidia-smi}$.)"
      ]
    },
    {
      "cell_type": "code",
      "execution_count": 17,
      "metadata": {
        "id": "TnCzxkykxlf5"
      },
      "outputs": [],
      "source": [
        "# specify the device for computation\n",
        "#############################################\n",
        "# your code here\n",
        "nn_model = ResNet()\n",
        "nn_model = nn_model.to(device) #deploying the model to GPU devices\n",
        "#############################################"
      ]
    },
    {
      "cell_type": "code",
      "execution_count": 18,
      "metadata": {
        "colab": {
          "base_uri": "https://localhost:8080/"
        },
        "id": "axyEAGdMhpFJ",
        "outputId": "70cfeab9-d5bf-40b8-d665-754584d3b20e"
      },
      "outputs": [
        {
          "output_type": "stream",
          "name": "stdout",
          "text": [
            "Running on:  cuda\n"
          ]
        }
      ],
      "source": [
        "print(\"Running on: \", device)"
      ]
    },
    {
      "cell_type": "code",
      "execution_count": 19,
      "metadata": {
        "colab": {
          "base_uri": "https://localhost:8080/"
        },
        "id": "DTKSICs3hmDY",
        "outputId": "aed252b4-686b-444f-b2c2-d4f2bff6a225"
      },
      "outputs": [
        {
          "output_type": "stream",
          "name": "stdout",
          "text": [
            "Sat Sep 30 01:54:01 2023       \n",
            "+-----------------------------------------------------------------------------+\n",
            "| NVIDIA-SMI 525.105.17   Driver Version: 525.105.17   CUDA Version: 12.0     |\n",
            "|-------------------------------+----------------------+----------------------+\n",
            "| GPU  Name        Persistence-M| Bus-Id        Disp.A | Volatile Uncorr. ECC |\n",
            "| Fan  Temp  Perf  Pwr:Usage/Cap|         Memory-Usage | GPU-Util  Compute M. |\n",
            "|                               |                      |               MIG M. |\n",
            "|===============================+======================+======================|\n",
            "|   0  Tesla T4            Off  | 00000000:00:04.0 Off |                    0 |\n",
            "| N/A   51C    P0    27W /  70W |   1095MiB / 15360MiB |      0%      Default |\n",
            "|                               |                      |                  N/A |\n",
            "+-------------------------------+----------------------+----------------------+\n",
            "                                                                               \n",
            "+-----------------------------------------------------------------------------+\n",
            "| Processes:                                                                  |\n",
            "|  GPU   GI   CI        PID   Type   Process name                  GPU Memory |\n",
            "|        ID   ID                                                   Usage      |\n",
            "|=============================================================================|\n",
            "+-----------------------------------------------------------------------------+\n"
          ]
        }
      ],
      "source": [
        "!nvidia-smi"
      ]
    },
    {
      "cell_type": "markdown",
      "metadata": {
        "id": "rwQeieQlxlf6"
      },
      "source": [
        "## Step 4: Set up the loss function and optimizer\n",
        "Loss function/objective function is used to provide \"feedback\" for the neural networks. Typically, we use multi-class cross-entropy as the loss function for classification models. As for the optimizer, we will use SGD with momentum."
      ]
    },
    {
      "cell_type": "markdown",
      "metadata": {
        "id": "iR3A5hx-xlf6"
      },
      "source": [
        "### Question (e)\n",
        "Here, you need to:\n",
        "1. Set up the cross-entropy loss as the criterion. (Hint: there are implemented functions in **torch.nn**)\n",
        "2. Specify a SGD optimizer with momentum. (Hint: there are implemented functions in **torch.optim**)"
      ]
    },
    {
      "cell_type": "code",
      "execution_count": 20,
      "metadata": {
        "id": "8sUH9I4lxlf6"
      },
      "outputs": [],
      "source": [
        "import torch.nn as nn\n",
        "import torch.optim as optim\n",
        "\n",
        "# hyperparameters, do NOT change right now\n",
        "# initial learning rate\n",
        "INITIAL_LR = 0.1\n",
        "\n",
        "# momentum for optimizer\n",
        "MOMENTUM = 0.9\n",
        "\n",
        "# L2 regularization strength\n",
        "REG = 0.0001\n",
        "\n",
        "#############################################\n",
        "# your code here\n",
        "# create loss function\n",
        "criterion = nn.CrossEntropyLoss()\n",
        "\n",
        "# Add optimizer\n",
        "optimizer = optim.SGD(nn_model.parameters(), lr = INITIAL_LR, momentum = MOMENTUM, weight_decay = REG)\n",
        "#############################################"
      ]
    },
    {
      "cell_type": "markdown",
      "metadata": {
        "id": "0jvCkCtcxlf7"
      },
      "source": [
        "## Step 5: Start the training process.\n",
        "\n",
        "### Question (f)/(g)\n",
        "Congratulations! You have completed all of the previous steps and it is time to train our neural network.\n",
        "\n",
        "Here you need to:\n",
        "1. Complete the training codes.\n",
        "2. Actually perform the training.\n",
        "\n",
        "Hint: Training a neural network usually repeats the following 4 steps:\n",
        "\n",
        "**i) Get a batch of data from the dataloader and copy it to your device (GPU).**\n",
        "\n",
        "**ii) Do a forward pass to get the outputs from the neural network and compute the loss. Be careful about your inputs to the loss function. Are the inputs required to be the logits or softmax probabilities? I think it's logits)**\n",
        "\n",
        "**iii) Do a backward pass (back-propagation) to compute gradients of all weights with respect to the loss.**\n",
        "\n",
        "**iiii) Update the model weights with the optimizer.**\n",
        "\n",
        "You will also need to compute the accuracy of training/validation samples to track your model's performance over each epoch (the accuracy should be increasing as you train for more and more epochs).\n"
      ]
    },
    {
      "cell_type": "markdown",
      "metadata": {
        "id": "qZ-beUGqy0vm"
      },
      "source": [
        "### Testing Out Various Learning Rates"
      ]
    },
    {
      "cell_type": "code",
      "execution_count": null,
      "metadata": {
        "colab": {
          "base_uri": "https://localhost:8080/"
        },
        "id": "egeDJGQ9xlf7",
        "outputId": "193b7130-2e86-4b62-aeec-a0e1fdc8b2aa"
      },
      "outputs": [
        {
          "output_type": "stream",
          "name": "stdout",
          "text": [
            "==> Buckle up - Training starts!\n",
            "Learning rate:  0.1\n",
            "==================================================\n",
            "Epoch 0:\n",
            "Training loss: 2.1688, Training accuracy: 0.2790\n",
            "Validation loss: 2.2653, Validation accuracy: 0.1630\n",
            "Saving ...\n",
            "\n",
            "Epoch 1:\n",
            "Training loss: 2.1031, Training accuracy: 0.3494\n",
            "Validation loss: 2.2246, Validation accuracy: 0.2186\n",
            "Saving ...\n",
            "\n",
            "Epoch 2:\n",
            "Training loss: 2.0672, Training accuracy: 0.3865\n",
            "Validation loss: 2.2628, Validation accuracy: 0.1748\n",
            "\n",
            "Epoch 3:\n",
            "Training loss: 2.0263, Training accuracy: 0.4276\n",
            "Validation loss: 2.1902, Validation accuracy: 0.2620\n",
            "Saving ...\n",
            "\n",
            "Epoch 4:\n",
            "Training loss: 1.9845, Training accuracy: 0.4712\n",
            "Validation loss: 2.3082, Validation accuracy: 0.1420\n",
            "\n",
            "Epoch 5:\n"
          ]
        }
      ],
      "source": [
        "# some hyperparameters\n",
        "# total number of training epochs\n",
        "EPOCHS = 75\n",
        "\n",
        "# the folder where the trained model is saved\n",
        "CHECKPOINT_FOLDER = \"./saved_model\"\n",
        "\n",
        "# start the training/validation process\n",
        "# the process should take about 5 minutes on a GTX 1070-Ti\n",
        "# if the code is written efficiently.\n",
        "\n",
        "DECAY_EPOCHS = EPOCHS // 3 #SELF DEFINED\n",
        "DECAY = 0.5 #SELF DEFINED\n",
        "\n",
        "training_losses = []\n",
        "validation_losses = []\n",
        "best_val_acc = 0\n",
        "current_learning_rate = INITIAL_LR\n",
        "\n",
        "print(\"==> Buckle up - Training starts!\")\n",
        "print(\"Learning rate: \", current_learning_rate)\n",
        "print(\"=\"*50)\n",
        "for i in range(0, EPOCHS):\n",
        "    # handle the learning rate scheduler.\n",
        "    if i % DECAY_EPOCHS == 0 and i != 0:\n",
        "        current_learning_rate = current_learning_rate * DECAY\n",
        "        for param_group in optimizer.param_groups:\n",
        "            param_group['lr'] = current_learning_rate\n",
        "        print(\"Current learning rate has decayed to %f\" %current_learning_rate)\n",
        "\n",
        "    #######################\n",
        "    # your code here\n",
        "    # switch to train mode\n",
        "    nn_model.train()\n",
        "\n",
        "    #######################\n",
        "\n",
        "    print(\"Epoch %d:\" %i)\n",
        "    # this help you compute the training accuracy\n",
        "    total_examples = 0\n",
        "    correct_examples = 0\n",
        "\n",
        "    train_loss = 0 # track training loss if you want\n",
        "\n",
        "    # Train the model for 1 epoch.\n",
        "    for batch_idx, (inputs, targets) in enumerate(train_loader):\n",
        "        ####################################\n",
        "        # your code here\n",
        "        # copy inputs to device\n",
        "        inputs, targets = inputs.to(device), targets.to(device)\n",
        "\n",
        "        # compute the output and loss\n",
        "        preds = nn_model(inputs)\n",
        "        loss = criterion(preds, targets)\n",
        "        train_loss += loss\n",
        "\n",
        "        # zero the gradient\n",
        "        optimizer.zero_grad()\n",
        "\n",
        "        # backpropagation\n",
        "        loss.backward()\n",
        "\n",
        "        # apply gradient and update the weights\n",
        "        optimizer.step()\n",
        "\n",
        "        # count the number of correctly predicted samples in the current batch\n",
        "        predicted = torch.argmax(preds, dim = 1)\n",
        "        correct_examples += (predicted == targets).sum().item()\n",
        "        total_examples += len(targets)\n",
        "\n",
        "        ####################################\n",
        "\n",
        "    avg_loss = train_loss / len(train_loader)\n",
        "    avg_acc = correct_examples / total_examples\n",
        "\n",
        "    training_losses.append(avg_loss)\n",
        "\n",
        "    print(\"Training loss: %.4f, Training accuracy: %.4f\" %(avg_loss, avg_acc))\n",
        "\n",
        "    # Validate on the validation dataset\n",
        "    #######################\n",
        "    # your code here\n",
        "    # switch to eval mode\n",
        "    nn_model.eval()\n",
        "\n",
        "    #######################\n",
        "\n",
        "    # this help you compute the validation accuracy\n",
        "    total_examples = 0\n",
        "    correct_examples = 0\n",
        "\n",
        "    val_loss = 0 # again, track the validation loss if you want\n",
        "\n",
        "    # disable gradient during validation, which can save GPU memory\n",
        "    with torch.no_grad():\n",
        "        for batch_idx, (inputs, targets) in enumerate(val_loader):\n",
        "            ####################################\n",
        "            # your code here\n",
        "            # copy inputs to device\n",
        "            inputs, targets = inputs.to(device), targets.to(device)\n",
        "\n",
        "            # compute the output and loss\n",
        "            preds = nn_model(inputs)\n",
        "            loss = criterion(preds, targets)\n",
        "            val_loss += loss\n",
        "\n",
        "            # count the number of correctly predicted samples in the current batch\n",
        "            predicted = torch.argmax(preds, dim = 1)\n",
        "            correct_examples += (predicted == targets).sum().item()\n",
        "            total_examples += len(targets)\n",
        "\n",
        "            ####################################\n",
        "\n",
        "    avg_loss = val_loss / len(val_loader)\n",
        "    avg_acc = correct_examples / total_examples\n",
        "\n",
        "    validation_losses.append(avg_loss)\n",
        "\n",
        "    print(\"Validation loss: %.4f, Validation accuracy: %.4f\" % (avg_loss, avg_acc))\n",
        "\n",
        "    # save the model checkpoint\n",
        "    if avg_acc > best_val_acc:\n",
        "        best_val_acc = avg_acc\n",
        "        if not os.path.exists(CHECKPOINT_FOLDER):\n",
        "            os.makedirs(CHECKPOINT_FOLDER)\n",
        "        print(\"Saving ...\")\n",
        "        state = {'state_dict': net.state_dict(),\n",
        "                'epoch': i,\n",
        "                'lr': current_learning_rate}\n",
        "        torch.save(state, os.path.join(CHECKPOINT_FOLDER, 'simplenn.pth'))\n",
        "\n",
        "    print('')\n",
        "\n",
        "print(\"=\"*50)\n",
        "print(f\"==> Optimization finished! Best validation accuracy: {best_val_acc:.4f}\")"
      ]
    },
    {
      "cell_type": "markdown",
      "metadata": {
        "id": "gYE3EHOay0vo"
      },
      "source": [
        "### Plotting Training and Validation Losses"
      ]
    },
    {
      "cell_type": "code",
      "execution_count": null,
      "metadata": {
        "id": "jMKvkxpgy0vo"
      },
      "outputs": [],
      "source": [
        "training_lr_1 = [x.item() for x in training_losses_all[0]]\n",
        "training_lr_01 = [x.item() for x in training_losses_all[1]]\n",
        "training_lr_005 = [x.item() for x in training_losses_all[2]]\n",
        "training_lr_001 = [x.item() for x in training_losses_all[3]]\n",
        "training_lr_0005 = [x.item() for x in training_losses_all[4]]\n",
        "training_lr_0001 = [x.item() for x in training_losses_all[5]]"
      ]
    },
    {
      "cell_type": "code",
      "execution_count": null,
      "metadata": {
        "id": "Pvdqy1h1y0vp",
        "outputId": "f38b0382-3a1c-4ba7-ad8f-a254c5212647"
      },
      "outputs": [
        {
          "data": {
            "image/png": "[encoded data removed]",
            "text/plain": [
              "<Figure size 432x288 with 1 Axes>"
            ]
          },
          "metadata": {
            "needs_background": "light"
          },
          "output_type": "display_data"
        }
      ],
      "source": [
        "plt.plot(training_lr_1, label = 'LR = 1')\n",
        "plt.plot(training_lr_01, label = 'LR = 0.1')\n",
        "plt.plot(training_lr_005, label = 'LR = 0.05')\n",
        "plt.plot(training_lr_001, label = 'LR = 0.01')\n",
        "plt.plot(training_lr_0005, label = 'LR = 0.005')\n",
        "plt.plot(training_lr_0001, label = 'LR = 0.001')\n",
        "plt.legend()\n",
        "plt.xlabel(\"Epoch Num.\")\n",
        "plt.ylabel(\"Training Loss\")\n",
        "plt.title(\"Training Loss For Various LR Values\")\n",
        "plt.show()"
      ]
    },
    {
      "cell_type": "code",
      "execution_count": null,
      "metadata": {
        "id": "LDxVABkhy0vp"
      },
      "outputs": [],
      "source": [
        "validation_lr_1 = [x.item() for x in validation_losses_all[0]]\n",
        "validation_lr_01 = [x.item() for x in validation_losses_all[1]]\n",
        "validation_lr_005 = [x.item() for x in validation_losses_all[2]]\n",
        "validation_lr_001 = [x.item() for x in validation_losses_all[3]]\n",
        "validation_lr_0005 = [x.item() for x in validation_losses_all[4]]\n",
        "validation_lr_0001 = [x.item() for x in validation_losses_all[5]]"
      ]
    },
    {
      "cell_type": "code",
      "execution_count": null,
      "metadata": {
        "id": "RWyA2F1vy0vp",
        "outputId": "7afb4903-31e6-478f-d597-6dc1d0fb0b2d"
      },
      "outputs": [
        {
          "data": {
            "image/png": "[encoded data removed]",
            "text/plain": [
              "<Figure size 432x288 with 1 Axes>"
            ]
          },
          "metadata": {
            "needs_background": "light"
          },
          "output_type": "display_data"
        }
      ],
      "source": [
        "plt.plot(validation_lr_1, label = 'LR = 1')\n",
        "plt.plot(validation_lr_01, label = 'LR = 0.1')\n",
        "plt.plot(validation_lr_005, label = 'LR = 0.05')\n",
        "plt.plot(validation_lr_001, label = 'LR = 0.01')\n",
        "plt.plot(validation_lr_0005, label = 'LR = 0.005')\n",
        "plt.plot(validation_lr_0001, label = 'LR = 0.001')\n",
        "plt.legend()\n",
        "plt.xlabel(\"Epoch Num.\")\n",
        "plt.ylabel(\"Validation Loss\")\n",
        "plt.title(\"Validation Loss For Various LR Values\")\n",
        "plt.show()"
      ]
    },
    {
      "cell_type": "code",
      "execution_count": null,
      "metadata": {
        "id": "jIiPLwW5y0vp"
      },
      "outputs": [],
      "source": [
        "table = pd.DataFrame.from_dict({'Learning Rate': ['1', '0.1', '0.05', '0.01', '0.005', '0.001'], 'Best Validation Accuracy': [0.1028, 0.7386, 0.7502, 0.7278, 0.7046, 0.6110]})"
      ]
    },
    {
      "cell_type": "code",
      "execution_count": null,
      "metadata": {
        "id": "sUQLjS6yy0vq",
        "outputId": "262ce9d4-62fd-412b-93db-652d188882e0"
      },
      "outputs": [
        {
          "data": {
            "text/html": [
              "<div>\n",
              "<style scoped>\n",
              "    .dataframe tbody tr th:only-of-type {\n",
              "        vertical-align: middle;\n",
              "    }\n",
              "\n",
              "    .dataframe tbody tr th {\n",
              "        vertical-align: top;\n",
              "    }\n",
              "\n",
              "    .dataframe thead th {\n",
              "        text-align: right;\n",
              "    }\n",
              "</style>\n",
              "<table border=\"1\" class=\"dataframe\">\n",
              "  <thead>\n",
              "    <tr style=\"text-align: right;\">\n",
              "      <th></th>\n",
              "      <th>Learning Rate</th>\n",
              "      <th>Best Validation Accuracy</th>\n",
              "    </tr>\n",
              "  </thead>\n",
              "  <tbody>\n",
              "    <tr>\n",
              "      <th>0</th>\n",
              "      <td>1</td>\n",
              "      <td>0.1028</td>\n",
              "    </tr>\n",
              "    <tr>\n",
              "      <th>1</th>\n",
              "      <td>0.1</td>\n",
              "      <td>0.7386</td>\n",
              "    </tr>\n",
              "    <tr>\n",
              "      <th>2</th>\n",
              "      <td>0.05</td>\n",
              "      <td>0.7502</td>\n",
              "    </tr>\n",
              "    <tr>\n",
              "      <th>3</th>\n",
              "      <td>0.01</td>\n",
              "      <td>0.7278</td>\n",
              "    </tr>\n",
              "    <tr>\n",
              "      <th>4</th>\n",
              "      <td>0.005</td>\n",
              "      <td>0.7046</td>\n",
              "    </tr>\n",
              "    <tr>\n",
              "      <th>5</th>\n",
              "      <td>0.001</td>\n",
              "      <td>0.6110</td>\n",
              "    </tr>\n",
              "  </tbody>\n",
              "</table>\n",
              "</div>"
            ],
            "text/plain": [
              "  Learning Rate  Best Validation Accuracy\n",
              "0             1                    0.1028\n",
              "1           0.1                    0.7386\n",
              "2          0.05                    0.7502\n",
              "3          0.01                    0.7278\n",
              "4         0.005                    0.7046\n",
              "5         0.001                    0.6110"
            ]
          },
          "execution_count": 89,
          "metadata": {},
          "output_type": "execute_result"
        }
      ],
      "source": [
        "table"
      ]
    },
    {
      "cell_type": "code",
      "execution_count": null,
      "metadata": {
        "id": "ay1DuTUwy0vq",
        "outputId": "7a21da05-e960-4d48-bb0f-6059fbf85dff"
      },
      "outputs": [
        {
          "data": {
            "image/png": "[encoded data removed]",
            "text/plain": [
              "<Figure size 432x288 with 1 Axes>"
            ]
          },
          "metadata": {
            "needs_background": "light"
          },
          "output_type": "display_data"
        }
      ],
      "source": [
        "validation_reg_1e2 = [x.item() for x in validation_losses_all_reg[0]]\n",
        "validation_reg_1e3 = [x.item() for x in validation_losses_all_reg[1]]\n",
        "validation_reg_1e4 = [x.item() for x in validation_losses_all_reg[2]]\n",
        "validation_reg_1e5 = [x.item() for x in validation_losses_all_reg[3]]\n",
        "validation_reg_0 = [x.item() for x in validation_losses_all_reg[4]]\n",
        "\n",
        "training_reg_1e2 = [x.item() for x in training_losses_all_reg[0]]\n",
        "training_reg_1e3 = [x.item() for x in training_losses_all_reg[1]]\n",
        "training_reg_1e4 = [x.item() for x in training_losses_all_reg[2]]\n",
        "training_reg_1e5 = [x.item() for x in training_losses_all_reg[3]]\n",
        "training_reg_0 = [x.item() for x in training_losses_all_reg[4]]\n",
        "\n",
        "plt.plot(training_reg_1e2, label = 'Reg = 1e-2')\n",
        "plt.plot(training_reg_1e3, label = 'Reg = 1e-3')\n",
        "plt.plot(training_reg_1e4, label = 'Reg = 1e-4')\n",
        "plt.plot(training_reg_1e5, label = 'Reg = 1e-5')\n",
        "plt.plot(training_reg_0, label = 'Reg = 0')\n",
        "plt.legend()\n",
        "plt.xlabel(\"Epoch Num.\")\n",
        "plt.ylabel(\"Training Loss\")\n",
        "plt.title(\"Training Loss For Various Reg Values (LR = 0.01)\")\n",
        "plt.show()"
      ]
    },
    {
      "cell_type": "code",
      "execution_count": null,
      "metadata": {
        "id": "fBpDmpiSy0vq",
        "outputId": "2c8b3eba-de10-4385-e847-ffecf187abc4"
      },
      "outputs": [
        {
          "data": {
            "image/png": "[encoded data removed]",
            "text/plain": [
              "<Figure size 432x288 with 1 Axes>"
            ]
          },
          "metadata": {
            "needs_background": "light"
          },
          "output_type": "display_data"
        }
      ],
      "source": [
        "plt.plot(validation_reg_1e2, label = 'Reg = 1e-2')\n",
        "plt.plot(validation_reg_1e3, label = 'Reg = 1e-3')\n",
        "plt.plot(validation_reg_1e4, label = 'Reg = 1e-4')\n",
        "plt.plot(validation_reg_1e5, label = 'Reg = 1e-5')\n",
        "plt.plot(validation_reg_0, label = 'Reg = 0')\n",
        "plt.legend()\n",
        "plt.xlabel(\"Epoch Num.\")\n",
        "plt.ylabel(\"Validation Loss\")\n",
        "plt.title(\"Validation Loss For Various Reg Values (LR = 0.01)\")\n",
        "plt.show()"
      ]
    },
    {
      "cell_type": "code",
      "execution_count": null,
      "metadata": {
        "id": "4T1B2OoEy0vr",
        "outputId": "d28de84d-cb32-4f6f-a74d-0e6c6b9d5900"
      },
      "outputs": [
        {
          "data": {
            "text/html": [
              "<div>\n",
              "<style scoped>\n",
              "    .dataframe tbody tr th:only-of-type {\n",
              "        vertical-align: middle;\n",
              "    }\n",
              "\n",
              "    .dataframe tbody tr th {\n",
              "        vertical-align: top;\n",
              "    }\n",
              "\n",
              "    .dataframe thead th {\n",
              "        text-align: right;\n",
              "    }\n",
              "</style>\n",
              "<table border=\"1\" class=\"dataframe\">\n",
              "  <thead>\n",
              "    <tr style=\"text-align: right;\">\n",
              "      <th></th>\n",
              "      <th>Reg Rate</th>\n",
              "      <th>Best Validation Accuracy</th>\n",
              "    </tr>\n",
              "  </thead>\n",
              "  <tbody>\n",
              "    <tr>\n",
              "      <th>0</th>\n",
              "      <td>1e-2</td>\n",
              "      <td>0.6310</td>\n",
              "    </tr>\n",
              "    <tr>\n",
              "      <th>1</th>\n",
              "      <td>1e-3</td>\n",
              "      <td>0.7190</td>\n",
              "    </tr>\n",
              "    <tr>\n",
              "      <th>2</th>\n",
              "      <td>1e-4</td>\n",
              "      <td>0.7188</td>\n",
              "    </tr>\n",
              "    <tr>\n",
              "      <th>3</th>\n",
              "      <td>1e-5</td>\n",
              "      <td>0.7060</td>\n",
              "    </tr>\n",
              "    <tr>\n",
              "      <th>4</th>\n",
              "      <td>0</td>\n",
              "      <td>0.7192</td>\n",
              "    </tr>\n",
              "  </tbody>\n",
              "</table>\n",
              "</div>"
            ],
            "text/plain": [
              "  Reg Rate  Best Validation Accuracy\n",
              "0     1e-2                    0.6310\n",
              "1     1e-3                    0.7190\n",
              "2     1e-4                    0.7188\n",
              "3     1e-5                    0.7060\n",
              "4        0                    0.7192"
            ]
          },
          "execution_count": 93,
          "metadata": {},
          "output_type": "execute_result"
        }
      ],
      "source": [
        "reg_table = pd.DataFrame.from_dict({'Reg Rate': ['1e-2', '1e-3', '1e-4', '1e-5', '0'], 'Best Validation Accuracy': [0.6310, 0.7190, 0.7188, 0.7060, 0.7192]})\n",
        "reg_table"
      ]
    },
    {
      "cell_type": "code",
      "execution_count": null,
      "metadata": {
        "id": "8Nafu-lq0ylS"
      },
      "outputs": [],
      "source": [
        "## Part b)\n",
        "\n",
        "# Showing that batch normalization allows a larger learning rate by increasing the learning rate by 10x.\n",
        "\n",
        "with_bn_tr_loss = [x.item() for x in bn_training_loss]"
      ]
    },
    {
      "cell_type": "code",
      "execution_count": null,
      "metadata": {
        "id": "heJohoDk7qet"
      },
      "outputs": [],
      "source": [
        "without_bn_tr_loss = [x.item() for x in no_bn_training_loss]"
      ]
    },
    {
      "cell_type": "code",
      "execution_count": null,
      "metadata": {
        "colab": {
          "base_uri": "https://localhost:8080/",
          "height": 472
        },
        "id": "GyGinObc8BCo",
        "outputId": "283acd89-3c15-4d08-fd9b-ecf389e07d87"
      },
      "outputs": [
        {
          "data": {
            "image/png": "[encoded data removed]",
            "text/plain": [
              "<Figure size 640x480 with 1 Axes>"
            ]
          },
          "metadata": {},
          "output_type": "display_data"
        }
      ],
      "source": [
        "import matplotlib.pyplot as plt\n",
        "\n",
        "plt.plot(with_bn_tr_loss, label = 'With Batch Normalization')\n",
        "plt.plot(without_bn_tr_loss, label = 'Without Batch Normalization')\n",
        "plt.title(\"Training Loss With & Without Batch Normalization (Learning Rate = 0.1)\")\n",
        "plt.xlabel(\"Epoch\")\n",
        "plt.ylabel(\"Training Loss\")\n",
        "plt.legend()\n",
        "plt.show()"
      ]
    },
    {
      "cell_type": "markdown",
      "metadata": {
        "id": "QExpKNlhxlf8"
      },
      "source": [
        "# Bonus: with learning rate decay\n",
        "\n",
        "The following code can help you adjust the learning rate during training. You need to figure out how to incorporate this code into your training loop.\n",
        "```python\n",
        "    if i % DECAY_EPOCHS == 0 and i != 0:\n",
        "        current_learning_rate = current_learning_rate * DECAY\n",
        "        for param_group in optimizer.param_groups:\n",
        "            param_group['lr'] = current_learning_rate\n",
        "        print(\"Current learning rate has decayed to %f\" %current_learning_rate)\n",
        "```"
      ]
    }
  ],
  "metadata": {
    "accelerator": "GPU",
    "colab": {
      "gpuType": "T4",
      "provenance": []
    },
    "kernelspec": {
      "display_name": "Python 3 (ipykernel)",
      "language": "python",
      "name": "python3"
    },
    "language_info": {
      "codemirror_mode": {
        "name": "ipython",
        "version": 3
      },
      "file_extension": ".py",
      "mimetype": "text/x-python",
      "name": "python",
      "nbconvert_exporter": "python",
      "pygments_lexer": "ipython3",
      "version": "3.9.7"
    }
  },
  "nbformat": 4,
  "nbformat_minor": 0
}